{
 "cells": [
  {
   "cell_type": "markdown",
   "metadata": {},
   "source": [
    "# PoemGenerator\n",
    "\n",
    "Generate samples of poems with the network previously trained, mimicking the style of different writers.\n",
    "\n",
    "Author: Pablo Villanueva Domingo"
   ]
  },
  {
   "cell_type": "code",
   "execution_count": 1,
   "metadata": {},
   "outputs": [
    {
     "name": "stdout",
     "output_type": "stream",
     "text": [
      "No GPU available, training on CPU; consider making n_epochs very small.\n",
      "No GPU available, training on CPU; consider making n_epochs very small.\n"
     ]
    }
   ],
   "source": [
    "from source.routines import *\n",
    "from source.network import *\n",
    "\n",
    "device = torch.device('cuda:0' if train_on_gpu else 'cpu')"
   ]
  },
  {
   "cell_type": "code",
   "execution_count": 2,
   "metadata": {},
   "outputs": [],
   "source": [
    "# Choose the author to imitate\n",
    "author = \"Lope\"\n",
    "#author = \"Verdaguer\"\n",
    "#author = \"Donne\"\n",
    "\n",
    "# Name of the model\n",
    "sufix = \"_%s_n_layers_%d_n_hidden_%d_seq_length_%d_batch_size_%d_n_epochs_%d\"%(author,n_layers,n_hidden,seq_length,batch_size,n_epochs)\n",
    "model_name = 'model'+sufix+'.net'\n",
    "\n",
    "# Choose a first verse to start the sample poems (here, real verses are employed, although not needed)\n",
    "if author == \"Lope\":\n",
    "    prime_verse = \"versos de amor, conceptos esparcidos\"\n",
    "elif author == \"Verdaguer\":\n",
    "    prime_verse = \"entre'ls arbres de l'illa delitosa\"\n",
    "elif author == \"Donne\":\n",
    "    prime_verse = \"no man is an island\""
   ]
  },
  {
   "cell_type": "code",
   "execution_count": 3,
   "metadata": {},
   "outputs": [
    {
     "data": {
      "text/plain": [
       "CharRNN(\n",
       "  (lstm): LSTM(59, 512, num_layers=3, batch_first=True, dropout=0.5)\n",
       "  (dropout): Dropout(p=0.5, inplace=False)\n",
       "  (fc): Linear(in_features=512, out_features=59, bias=True)\n",
       ")"
      ]
     },
     "execution_count": 3,
     "metadata": {},
     "output_type": "execute_result"
    }
   ],
   "source": [
    "# Load the network previously trained\n",
    "with open(\"models/\"+model_name, 'rb') as f:\n",
    "    checkpoint = torch.load(f, map_location=device)\n",
    "\n",
    "net = CharRNN(checkpoint['tokens'], n_hidden=checkpoint['n_hidden'], n_layers=checkpoint['n_layers'])\n",
    "net.load_state_dict(checkpoint['state_dict'])\n",
    "net"
   ]
  },
  {
   "cell_type": "code",
   "execution_count": 4,
   "metadata": {
    "scrolled": false
   },
   "outputs": [
    {
     "name": "stdout",
     "output_type": "stream",
     "text": [
      "\n",
      "Sample 1 \n",
      "\n",
      "\n",
      "versos de amor, conceptos esparcidos,\n",
      "de la vida esperar que muda esparte.\n",
      "\n",
      "   ya no hay que se acompaña la verdades\n",
      "que nací los pies del sol de toledo \n",
      "en la fortuna de la mano ausencia.\n",
      "\n",
      "   el agua corre del pie la esperanza,\n",
      "\n",
      "\n",
      "Sample 2 \n",
      "\n",
      "\n",
      "versos de amor, conceptos esparcidos.\n",
      "\n",
      "   si así es el mayor pensamiento armado,\n",
      "desprecio la envidia de su espesa, \n",
      "cuando en el mismo amor el cielo hace,\n",
      "y al mismo engaño el mayor se despade.\n",
      "\n",
      "   a los hijos se abrasen, que se dejes\n",
      "\n",
      "\n",
      "Sample 3 \n",
      "\n",
      "\n",
      "versos de amor, conceptos esparcidos,\n",
      "coronado cierto y al cielo comida.\n",
      "\n",
      "   y es de sus pies de su cara es la espada, \n",
      "y los que dos miran de los condes centes,\n",
      "y en tus ojos son las plantas y dos ciego.\n",
      "\n",
      "a una dama que estaba a la esperanza de que suele como esto pase del pie se admiesta\n",
      "\n",
      "\n",
      "Sample 4 \n",
      "\n",
      "\n",
      "versos de amor, conceptos esparcidos;\n",
      "pero no es el arte y el desengaño,\n",
      "y como siempre más campo de españa.\n",
      "\n",
      "   en la muerte el cielo de la consejiente,\n",
      "porque subido a tu pensamiento apusten;\n",
      "pero el triste entre las mudanzas cante,\n",
      "que al ciero espero del celeste engaño,\n",
      "\n",
      "\n",
      "Sample 5 \n",
      "\n",
      "\n",
      "versos de amor, conceptos esparcidos,\n",
      "y en mis ojos se lamente y alabanza.\n",
      "\n",
      "   amor, con más alta esperanza y fiera,\n",
      "y cuando la voz, que el mal elvero \n",
      "en el mismo amor su mano se dejarle.\n",
      "\n",
      "   punos para quien en ti estima en los días,\n",
      "\n"
     ]
    }
   ],
   "source": [
    "# Number of verses\n",
    "nlines = 8    \n",
    "    \n",
    "# Generate several sample poems with nlines verses\n",
    "for i in range(5):\n",
    "    sample_text = sample_lines(net, nlines, prime=prime_verse, top_k=5)\n",
    "    print(\"\\nSample\",i+1,\"\\n\\n\")\n",
    "    print(sample_text)"
   ]
  },
  {
   "cell_type": "code",
   "execution_count": null,
   "metadata": {},
   "outputs": [],
   "source": []
  }
 ],
 "metadata": {
  "kernelspec": {
   "display_name": "Python 3",
   "language": "python",
   "name": "python3"
  },
  "language_info": {
   "codemirror_mode": {
    "name": "ipython",
    "version": 3
   },
   "file_extension": ".py",
   "mimetype": "text/x-python",
   "name": "python",
   "nbconvert_exporter": "python",
   "pygments_lexer": "ipython3",
   "version": "3.8.3"
  }
 },
 "nbformat": 4,
 "nbformat_minor": 4
}
